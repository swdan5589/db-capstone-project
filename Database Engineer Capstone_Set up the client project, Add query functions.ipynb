{
 "cells": [
  {
   "cell_type": "code",
   "execution_count": null,
   "id": "2c191829-1283-4f51-b454-54db472d911e",
   "metadata": {},
   "outputs": [],
   "source": [
    "# Exercise: Set up the client project\n",
    "\n",
    "\n",
    "!pip install mysql-connector-python"
   ]
  },
  {
   "cell_type": "code",
   "execution_count": 1,
   "id": "39e384c7-dd43-4565-aff4-22e7ecae5c67",
   "metadata": {},
   "outputs": [],
   "source": [
    "import mysql.connector as connector"
   ]
  },
  {
   "cell_type": "code",
   "execution_count": 2,
   "id": "980a72ed-57b8-498d-8a20-a3dcd1ff9219",
   "metadata": {},
   "outputs": [],
   "source": []
  },
  {
   "cell_type": "code",
   "execution_count": 3,
   "id": "fd6d2d9e-6310-45b3-9633-c30a2441a441",
   "metadata": {},
   "outputs": [],
   "source": [
    "# Exercise: Add query functions\n",
    "\n",
    "# Task 1.\n",
    "\n",
    "# Import MySQL Connector/Python\n",
    "import mysql.connector as connector\n",
    "\n",
    "# Establish connection between Python and MySQL database via connector API\n",
    "connection=connector.connect(\n",
    "                             user=\"capstone\",\n",
    "                             password=\"Rdsfavas34\",\n",
    "                            )\n",
    "\n",
    "cursor = connection.cursor()\n",
    "\n",
    "# Use the database \"little_lemon\"\n",
    "use_database = \"\"\"USE LittleLemonDB\"\"\"\n",
    "cursor.execute(use_database)\n",
    "\n",
    "\n"
   ]
  },
  {
   "cell_type": "code",
   "execution_count": 4,
   "id": "f35db94b-c202-46cd-8df6-18056e253f17",
   "metadata": {},
   "outputs": [
    {
     "name": "stdout",
     "output_type": "stream",
     "text": [
      "[('bookings',), ('customers',), ('menuitems',), ('menus',), ('orderdeliverystatus',), ('orders',), ('staffs',)]\n"
     ]
    }
   ],
   "source": [
    "# Task 2. \n",
    "show_tables_query = \"SHOW tables\" \n",
    "cursor.execute(show_tables_query)\n",
    "results = cursor.fetchall()\n",
    "print(results)"
   ]
  },
  {
   "cell_type": "code",
   "execution_count": 5,
   "id": "6dbb3aab-6850-4008-9603-3a396985d727",
   "metadata": {},
   "outputs": [
    {
     "name": "stdout",
     "output_type": "stream",
     "text": [
      "('CustomerName', 'Email', 'PhoneNumber')\n",
      "('Emily Clark', 'emily.clark@email.com', '321-654-9870')\n"
     ]
    }
   ],
   "source": [
    "# Task 3.\n",
    "\n",
    "# Step 1\n",
    "select_stmt = \"\"\"\n",
    "SELECT Customers.CustomerName, Customers.Email, Customers.PhoneNumber\n",
    "FROM Customers\n",
    "LEFT JOIN Bookings ON Customers.CustomerID = Bookings.CustomerID\n",
    "LEFT JOIN Orders ON Bookings.BookingID = Orders.BookingID\n",
    "WHERE TotalCost > 60;\n",
    "\n",
    "\"\"\"\n",
    "\n",
    "# Step 2\n",
    "cursor.execute(select_stmt)\n",
    "\n",
    "# Step 3\n",
    "results = cursor.fetchall()\n",
    "print(cursor.column_names)\n",
    "for x in results:\n",
    "    print(x)"
   ]
  },
  {
   "cell_type": "code",
   "execution_count": null,
   "id": "f3565294-21fb-4466-a9c6-6bb89333c0c4",
   "metadata": {},
   "outputs": [],
   "source": []
  }
 ],
 "metadata": {
  "kernelspec": {
   "display_name": "Python 3 (ipykernel)",
   "language": "python",
   "name": "python3"
  },
  "language_info": {
   "codemirror_mode": {
    "name": "ipython",
    "version": 3
   },
   "file_extension": ".py",
   "mimetype": "text/x-python",
   "name": "python",
   "nbconvert_exporter": "python",
   "pygments_lexer": "ipython3",
   "version": "3.11.4"
  }
 },
 "nbformat": 4,
 "nbformat_minor": 5
}
